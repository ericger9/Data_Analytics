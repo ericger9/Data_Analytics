{
 "cells": [
  {
   "attachments": {},
   "cell_type": "markdown",
   "metadata": {},
   "source": [
    "# **Web Scrapping with Python**\n",
    "\n",
    "The objective of this project is to scrap Mobile Legends data from this url \"https://zathong.com/mobile-legends-builds/\" and perform some simple EDA on that data."
   ]
  },
  {
   "attachments": {},
   "cell_type": "markdown",
   "metadata": {},
   "source": [
    "## Import Libraries :\n",
    "- pandas : \n",
    "- BeautifulSoup\n",
    "- requests : "
   ]
  },
  {
   "cell_type": "code",
   "execution_count": 20,
   "metadata": {},
   "outputs": [],
   "source": [
    "import pandas as pd\n",
    "from bs4 import BeautifulSoup\n",
    "import requests"
   ]
  },
  {
   "attachments": {},
   "cell_type": "markdown",
   "metadata": {},
   "source": [
    "## Make HTTPS requests\n",
    "\n",
    "In this example we get \"Response [200]\" which indicates that the requests has succeeded."
   ]
  },
  {
   "cell_type": "code",
   "execution_count": 27,
   "metadata": {},
   "outputs": [
    {
     "name": "stdout",
     "output_type": "stream",
     "text": [
      "<Response [200]>\n"
     ]
    }
   ],
   "source": [
    "url = \"https://zathong.com/mobile-legends-builds/\"\n",
    "response = requests.get(url)\n",
    "print(response)"
   ]
  },
  {
   "attachments": {},
   "cell_type": "markdown",
   "metadata": {},
   "source": [
    "## Parse HTML Content\n",
    "Create a Beautiful Soup object by passing the HTML content to the Beautiful Soup constructor. This will allow you to navigate and search through the HTML structure."
   ]
  },
  {
   "cell_type": "code",
   "execution_count": 36,
   "metadata": {},
   "outputs": [],
   "source": [
    "content = response.text\n",
    "soup = BeautifulSoup(content, 'html.parser')"
   ]
  },
  {
   "attachments": {},
   "cell_type": "markdown",
   "metadata": {},
   "source": [
    "## Find and Extract Data"
   ]
  },
  {
   "cell_type": "code",
   "execution_count": 37,
   "metadata": {},
   "outputs": [],
   "source": [
    "## Function to get list of hero's\n",
    "def get_li_character(soup):\n",
    "        \n",
    "        soup = soup\n",
    "        \n",
    "        li = soup.find(class_='is-layout-flex wp-container-6 wp-block-columns has-background').find_all('a')\n",
    "        li = list(set([item['href'] for item in li]))\n",
    "        \n",
    "        return li\n",
    "\n",
    "## Get Link for each Hero\n",
    "li_hero = get_li_character(soup)[:3]\n",
    "\n",
    "## Function to get hero data"
   ]
  },
  {
   "cell_type": "code",
   "execution_count": 41,
   "metadata": {},
   "outputs": [],
   "source": [
    "def testing(li_hero):\n",
    "## Create Empty List\n",
    "    data = []\n",
    "    for hero in li_hero :\n",
    "        hero_data = []\n",
    "                \n",
    "        response = requests.get(hero)\n",
    "        content = response.text\n",
    "        soup = BeautifulSoup(content, 'html.parser')\n",
    "        information = soup.find(class_='entry-content')\n",
    "                \n",
    "        try :\n",
    "            ## Hero Name\n",
    "            name = information.find('figure').text\n",
    "            \n",
    "            ## Hero Role\n",
    "            role = information.find_all('p', class_='has-text-align-center')[0].text.split(':')[1].split(' ')[0]\n",
    "            speciality = information.find_all('p', class_='has-text-align-center')[1].text.split(':')[1]\n",
    "            lane = information.find_all('p', class_='has-text-align-center')[2].text.split(':')[1]\n",
    "            tier = information.find_all('p', class_='has-text-align-center')[3].text.split(':')[1]\n",
    "\n",
    "            ## Basic Stat\n",
    "            mov_speed = information.find_all('td')[:10][0].text.split(':')[1]\n",
    "            physical_att = information.find_all('td')[:10][1].text.split(':\\xa0')[1]\n",
    "            magic_pwr = information.find_all('td')[:10][2].text.split(':\\xa0')[1]\n",
    "            physical_def = information.find_all('td')[:10][3].text.split(':')[1]\n",
    "            magic_def = information.find_all('td')[:10][4].text.split(':\\xa0')[1]\n",
    "            hp = information.find_all('td')[:10][5].text.split(':')[1]\n",
    "            mana = information.find_all('td')[:10][6].text.split(':')[1]\n",
    "            att_speed = information.find_all('td')[:10][7].text.split(':')[1]\n",
    "            hp_reg = information.find_all('td')[:10][8].text.split(':')[1]\n",
    "            mana_reg = information.find_all('td')[:10][9].text.split(':')[1]\n",
    "        except :\n",
    "            pass\n",
    "        \n",
    "        basic_info = [name, role, speciality, lane, tier]\n",
    "        basic_stat = [mov_speed, physical_att, magic_pwr, physical_def, magic_def, hp, mana, att_speed, hp_reg, mana_reg]\n",
    "        \n",
    "        data.append(basic_info+basic_stat)\n",
    "    return data"
   ]
  },
  {
   "cell_type": "code",
   "execution_count": 43,
   "metadata": {},
   "outputs": [],
   "source": [
    "data = testing(li_hero)"
   ]
  },
  {
   "attachments": {},
   "cell_type": "markdown",
   "metadata": {},
   "source": [
    "## Store Data"
   ]
  },
  {
   "cell_type": "code",
   "execution_count": 47,
   "metadata": {},
   "outputs": [],
   "source": [
    "## Function to Create Dataframe and Store Data into Dataframe. \n",
    "def store_data(data):\n",
    "    col_names = ['name','role','speciality','lane','tier','mov_speed','physical_att','magic_pwr','physical_def','magic_def','hp','mana','att_speed','hp_reg','mana_reg']\n",
    "    df = pd.DataFrame(data, columns=col_names)\n",
    "\n",
    "    df[df.columns[5:].to_list()] = df[df.columns[5:].to_list()].replace(' ','')\n",
    "\n",
    "    df['mov_speed'] = pd.to_numeric(df.mov_speed, downcast='integer', errors='coerce')\n",
    "    df['physical_att'] = pd.to_numeric(df.physical_att, downcast='integer', errors='coerce')\n",
    "    df['magic_pwr'] = pd.to_numeric(df.magic_pwr, downcast='integer', errors='coerce')\n",
    "    df['physical_def'] = pd.to_numeric(df.physical_def, downcast='integer', errors='coerce')\n",
    "    df['magic_def'] = pd.to_numeric(df.magic_def, downcast='integer', errors='coerce')\n",
    "    df['hp'] = pd.to_numeric(df.hp, downcast='integer', errors='coerce')\n",
    "    df['mana'] = pd.to_numeric(df.mana, downcast='integer', errors='coerce')\n",
    "    df['att_speed'] = pd.to_numeric(df.att_speed, downcast='float', errors='coerce')\n",
    "    df['hp_reg'] = pd.to_numeric(df.hp_reg, downcast='float', errors='coerce')\n",
    "    df['mana_reg'] =  pd.to_numeric(df.mana_reg, downcast='float', errors='coerce')\n",
    "\n",
    "    return df"
   ]
  },
  {
   "cell_type": "code",
   "execution_count": 48,
   "metadata": {},
   "outputs": [
    {
     "data": {
      "text/html": [
       "<div>\n",
       "<style scoped>\n",
       "    .dataframe tbody tr th:only-of-type {\n",
       "        vertical-align: middle;\n",
       "    }\n",
       "\n",
       "    .dataframe tbody tr th {\n",
       "        vertical-align: top;\n",
       "    }\n",
       "\n",
       "    .dataframe thead th {\n",
       "        text-align: right;\n",
       "    }\n",
       "</style>\n",
       "<table border=\"1\" class=\"dataframe\">\n",
       "  <thead>\n",
       "    <tr style=\"text-align: right;\">\n",
       "      <th></th>\n",
       "      <th>name</th>\n",
       "      <th>role</th>\n",
       "      <th>speciality</th>\n",
       "      <th>lane</th>\n",
       "      <th>tier</th>\n",
       "      <th>mov_speed</th>\n",
       "      <th>physical_att</th>\n",
       "      <th>magic_pwr</th>\n",
       "      <th>physical_def</th>\n",
       "      <th>magic_def</th>\n",
       "      <th>hp</th>\n",
       "      <th>mana</th>\n",
       "      <th>att_speed</th>\n",
       "      <th>hp_reg</th>\n",
       "      <th>mana_reg</th>\n",
       "    </tr>\n",
       "  </thead>\n",
       "  <tbody>\n",
       "    <tr>\n",
       "      <th>0</th>\n",
       "      <td>Zilong</td>\n",
       "      <td></td>\n",
       "      <td>Chase/Charge</td>\n",
       "      <td>EXP, Jungle</td>\n",
       "      <td>A+</td>\n",
       "      <td>265</td>\n",
       "      <td>123</td>\n",
       "      <td>0</td>\n",
       "      <td>25</td>\n",
       "      <td>NaN</td>\n",
       "      <td>2689</td>\n",
       "      <td>405</td>\n",
       "      <td>0.964</td>\n",
       "      <td>7.0</td>\n",
       "      <td>3.2</td>\n",
       "    </tr>\n",
       "    <tr>\n",
       "      <th>1</th>\n",
       "      <td>Layla</td>\n",
       "      <td></td>\n",
       "      <td>Burst/Control</td>\n",
       "      <td>Gold</td>\n",
       "      <td>A+</td>\n",
       "      <td>240</td>\n",
       "      <td>125</td>\n",
       "      <td>0</td>\n",
       "      <td>15</td>\n",
       "      <td>NaN</td>\n",
       "      <td>2500</td>\n",
       "      <td>424</td>\n",
       "      <td>0.850</td>\n",
       "      <td>5.4</td>\n",
       "      <td>2.8</td>\n",
       "    </tr>\n",
       "    <tr>\n",
       "      <th>2</th>\n",
       "      <td>Johnson</td>\n",
       "      <td></td>\n",
       "      <td>Support | Crowd Control</td>\n",
       "      <td>Roam</td>\n",
       "      <td>S</td>\n",
       "      <td>255</td>\n",
       "      <td>120</td>\n",
       "      <td>0</td>\n",
       "      <td>27</td>\n",
       "      <td>10.0</td>\n",
       "      <td>2809</td>\n",
       "      <td>0</td>\n",
       "      <td>0.826</td>\n",
       "      <td>8.4</td>\n",
       "      <td>2.4</td>\n",
       "    </tr>\n",
       "  </tbody>\n",
       "</table>\n",
       "</div>"
      ],
      "text/plain": [
       "      name role                speciality          lane tier  mov_speed  \\\n",
       "0   Zilong                   Chase/Charge   EXP, Jungle   A+        265   \n",
       "1    Layla                  Burst/Control          Gold   A+        240   \n",
       "2  Johnson        Support | Crowd Control          Roam    S        255   \n",
       "\n",
       "   physical_att  magic_pwr  physical_def  magic_def    hp  mana  att_speed  \\\n",
       "0           123          0            25        NaN  2689   405      0.964   \n",
       "1           125          0            15        NaN  2500   424      0.850   \n",
       "2           120          0            27       10.0  2809     0      0.826   \n",
       "\n",
       "   hp_reg  mana_reg  \n",
       "0     7.0       3.2  \n",
       "1     5.4       2.8  \n",
       "2     8.4       2.4  "
      ]
     },
     "execution_count": 48,
     "metadata": {},
     "output_type": "execute_result"
    }
   ],
   "source": [
    "store_data(data)"
   ]
  },
  {
   "cell_type": "code",
   "execution_count": null,
   "metadata": {},
   "outputs": [],
   "source": []
  }
 ],
 "metadata": {
  "kernelspec": {
   "display_name": "base",
   "language": "python",
   "name": "python3"
  },
  "language_info": {
   "codemirror_mode": {
    "name": "ipython",
    "version": 3
   },
   "file_extension": ".py",
   "mimetype": "text/x-python",
   "name": "python",
   "nbconvert_exporter": "python",
   "pygments_lexer": "ipython3",
   "version": "3.9.7"
  },
  "orig_nbformat": 4
 },
 "nbformat": 4,
 "nbformat_minor": 2
}
